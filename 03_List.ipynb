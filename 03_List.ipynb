{
 "cells": [
  {
   "cell_type": "markdown",
   "metadata": {},
   "source": [
    "## LIST\n",
    " ### Ordered\n",
    " ### Changeable\n",
    " ### Allows duplicate values\n",
    " ### Indexable"
   ]
  },
  {
   "cell_type": "code",
   "execution_count": 8,
   "metadata": {},
   "outputs": [
    {
     "name": "stdout",
     "output_type": "stream",
     "text": [
      "<class 'list'>\n"
     ]
    }
   ],
   "source": [
    "fruits = [\"apple\", \"orange\", \"apple\", \"Banana\", 29, 10.1, True, False]\n",
    "\n",
    "print(type(fruits))"
   ]
  },
  {
   "cell_type": "code",
   "execution_count": 10,
   "metadata": {},
   "outputs": [
    {
     "name": "stdout",
     "output_type": "stream",
     "text": [
      "<class 'list'>\n"
     ]
    }
   ],
   "source": [
    "fruits = list((\"banana\", \"apple\", \"banana\", 29, True))\n",
    "\n",
    "print(type(fruits))"
   ]
  },
  {
   "cell_type": "code",
   "execution_count": 12,
   "metadata": {},
   "outputs": [
    {
     "name": "stdout",
     "output_type": "stream",
     "text": [
      "Haaa..isme hai\n"
     ]
    }
   ],
   "source": [
    "thislist = [\"apple\", \"Prince\", 20, False, 20.1,\"mango\", \"kiwi\"]\n",
    "if \"apple\" in thislist:\n",
    "    print(\"Haaa..isme hai\")\n",
    "else:\n",
    "    print(\"Nahi hai\")\n"
   ]
  },
  {
   "cell_type": "markdown",
   "metadata": {},
   "source": [
    "## Change item values in list"
   ]
  },
  {
   "cell_type": "code",
   "execution_count": 13,
   "metadata": {},
   "outputs": [
    {
     "name": "stdout",
     "output_type": "stream",
     "text": [
      "['Prince', 'Mohan', 'Aman', 'Rohan']\n"
     ]
    }
   ],
   "source": [
    "name = [\"Prince\", \"Shivam\", \"Aman\", \"Rohan\"]\n",
    "\n",
    "name[1]=\"Mohan\"\n",
    "\n",
    "print(name)\n"
   ]
  },
  {
   "cell_type": "code",
   "execution_count": 24,
   "metadata": {},
   "outputs": [
    {
     "name": "stdout",
     "output_type": "stream",
     "text": [
      "['aman', 'orange', 'vishal', 'papaya']\n"
     ]
    }
   ],
   "source": [
    "fruits = ['apple', 'orange', 'pineapple', 'papaya']\n",
    "\n",
    "fruits[0:4:2] =['aman', 'vishal']\n",
    "\n",
    "\n",
    "print(fruits)\n"
   ]
  },
  {
   "cell_type": "code",
   "execution_count": 2,
   "metadata": {},
   "outputs": [
    {
     "name": "stdout",
     "output_type": "stream",
     "text": [
      "['a', 'b', 'Prince', 'c', 'd', 'e']\n"
     ]
    }
   ],
   "source": [
    "name = ['a', 'b','c', 'd', 'e' ]\n",
    "\n",
    "name.insert(2, \"Prince\")\n",
    "\n",
    "name.append(\"Dog\")\n",
    "\n",
    "name.pop()\n",
    "\n",
    "print(name)"
   ]
  },
  {
   "cell_type": "code",
   "execution_count": null,
   "metadata": {},
   "outputs": [],
   "source": []
  },
  {
   "cell_type": "code",
   "execution_count": null,
   "metadata": {},
   "outputs": [],
   "source": [
    "[start:end:step]"
   ]
  },
  {
   "cell_type": "code",
   "execution_count": 29,
   "metadata": {},
   "outputs": [
    {
     "name": "stdout",
     "output_type": "stream",
     "text": [
      "4\n",
      "5\n"
     ]
    }
   ],
   "source": [
    "name = [\"a\", 'b', 'c', 'd']\n",
    "\n",
    "print(len(name))\n",
    "\n",
    "name.insert(2,'Prince')\n",
    "\n",
    "print(len(name))"
   ]
  },
  {
   "cell_type": "code",
   "execution_count": 8,
   "metadata": {},
   "outputs": [
    {
     "name": "stdout",
     "output_type": "stream",
     "text": [
      "['prince', 65, True, 'Dog', 'cat']\n"
     ]
    }
   ],
   "source": [
    "my_list= [\"prince\", 65, 12.5, True, \"Dog\", \"cat\"]\n",
    "\n",
    "my_list.pop(2)\n",
    "\n",
    "print(my_list)"
   ]
  },
  {
   "cell_type": "code",
   "execution_count": 9,
   "metadata": {},
   "outputs": [
    {
     "ename": "TypeError",
     "evalue": "list.remove() takes exactly one argument (0 given)",
     "output_type": "error",
     "traceback": [
      "\u001b[1;31m---------------------------------------------------------------------------\u001b[0m",
      "\u001b[1;31mTypeError\u001b[0m                                 Traceback (most recent call last)",
      "Cell \u001b[1;32mIn[9], line 3\u001b[0m\n\u001b[0;32m      1\u001b[0m my_list\u001b[38;5;241m=\u001b[39m [\u001b[38;5;124m\"\u001b[39m\u001b[38;5;124mprince\u001b[39m\u001b[38;5;124m\"\u001b[39m, \u001b[38;5;241m65\u001b[39m, \u001b[38;5;241m12.5\u001b[39m, \u001b[38;5;28;01mTrue\u001b[39;00m, \u001b[38;5;124m\"\u001b[39m\u001b[38;5;124mDog\u001b[39m\u001b[38;5;124m\"\u001b[39m, \u001b[38;5;124m\"\u001b[39m\u001b[38;5;124mcat\u001b[39m\u001b[38;5;124m\"\u001b[39m]\n\u001b[1;32m----> 3\u001b[0m \u001b[43mmy_list\u001b[49m\u001b[38;5;241;43m.\u001b[39;49m\u001b[43mremove\u001b[49m\u001b[43m(\u001b[49m\u001b[43m)\u001b[49m\n\u001b[0;32m      5\u001b[0m \u001b[38;5;28mprint\u001b[39m(my_list)\n",
      "\u001b[1;31mTypeError\u001b[0m: list.remove() takes exactly one argument (0 given)"
     ]
    }
   ],
   "source": [
    "my_list= [\"prince\", 65, 12.5, True, \"Dog\", \"cat\"]\n",
    "\n",
    "my_list.remove()\n",
    "\n",
    "print(my_list)"
   ]
  },
  {
   "cell_type": "code",
   "execution_count": 11,
   "metadata": {},
   "outputs": [
    {
     "name": "stdout",
     "output_type": "stream",
     "text": [
      "['Prince', 'Shivam', 'raman', 'aman', 'abc', 'def', 'xyz']\n"
     ]
    }
   ],
   "source": [
    "name1= [\"Prince\", \"Shivam\", \"raman\", \"aman\"]\n",
    "name2=[\"abc\", \"def\", \"xyz\"]\n",
    "\n",
    "name1.extend(name2)\n",
    "\n",
    "print(name1)\n",
    "\n",
    "\n"
   ]
  },
  {
   "cell_type": "code",
   "execution_count": 18,
   "metadata": {},
   "outputs": [
    {
     "name": "stdout",
     "output_type": "stream",
     "text": [
      "['apple']\n"
     ]
    }
   ],
   "source": [
    "fruits = [\"apple\", \"orange\", \"apple\"]\n",
    "\n",
    "del fruits[0:2]\n",
    "\n",
    "print(fruits)"
   ]
  },
  {
   "cell_type": "code",
   "execution_count": 19,
   "metadata": {},
   "outputs": [
    {
     "name": "stdout",
     "output_type": "stream",
     "text": [
      "Prince\n",
      "Shivam\n",
      "raman\n",
      "aman\n"
     ]
    }
   ],
   "source": [
    "name= [\"Prince\", \"Shivam\", \"raman\", \"aman\"]\n",
    "\n",
    "for i in name:\n",
    "    print(i)"
   ]
  },
  {
   "cell_type": "code",
   "execution_count": 20,
   "metadata": {},
   "outputs": [
    {
     "name": "stdout",
     "output_type": "stream",
     "text": [
      "[4, 16, 36, 64, 81]\n"
     ]
    }
   ],
   "source": [
    "num = [2,4,6,8,9]\n",
    "\n",
    "b = [i*i for i in num]\n",
    "\n",
    "print(b)\n"
   ]
  },
  {
   "cell_type": "code",
   "execution_count": null,
   "metadata": {},
   "outputs": [],
   "source": [
    "list = [0,0,0,0,0]"
   ]
  },
  {
   "cell_type": "code",
   "execution_count": 22,
   "metadata": {},
   "outputs": [
    {
     "name": "stdout",
     "output_type": "stream",
     "text": [
      "[0, 0, 0, 0, 0, 0, 0, 0, 0, 0, 0, 0, 0, 0, 0, 0, 0, 0, 0, 0]\n"
     ]
    }
   ],
   "source": [
    "list_with_zero = [0]*20\n",
    "\n",
    "print(list_with_zero)"
   ]
  },
  {
   "cell_type": "code",
   "execution_count": 24,
   "metadata": {},
   "outputs": [
    {
     "name": "stdout",
     "output_type": "stream",
     "text": [
      "['Prince', 'shivam', 'vardhyanya', 'Aman', 'Rohan', 'Vishal']\n"
     ]
    }
   ],
   "source": [
    "list1 = [\"Prince\", \"shivam\", \"vardhyanya\"]\n",
    "\n",
    "list2 = [\"Aman\", \"Rohan\", \"Vishal\"]\n",
    "\n",
    "#Concatenation\n",
    "list3 = list1+list2\n",
    "\n",
    "print(list3)"
   ]
  },
  {
   "cell_type": "code",
   "execution_count": 25,
   "metadata": {},
   "outputs": [
    {
     "name": "stdout",
     "output_type": "stream",
     "text": [
      "['Prince', 'Prince', 'Prince', 'Prince', 'Prince', 'Prince', 'Prince', 'Prince', 'Prince', 'Prince']\n"
     ]
    }
   ],
   "source": [
    "name = [\"Prince\"] * 10\n",
    "\n",
    "print(name)"
   ]
  },
  {
   "cell_type": "code",
   "execution_count": 26,
   "metadata": {},
   "outputs": [
    {
     "name": "stdout",
     "output_type": "stream",
     "text": [
      "[1, 8, 9, 11, 67]\n"
     ]
    }
   ],
   "source": [
    "number = [1,67,8,9,11]\n",
    "\n",
    "num= sorted(number)\n",
    "\n",
    "print(num)\n"
   ]
  },
  {
   "cell_type": "code",
   "execution_count": 27,
   "metadata": {},
   "outputs": [
    {
     "name": "stdout",
     "output_type": "stream",
     "text": [
      "['P', 'r', 'i', 'n', 'c', 'e']\n"
     ]
    }
   ],
   "source": [
    "#Converting string into a list\n",
    "name = \"Prince\"\n",
    "\n",
    "nameList = list(name)\n",
    "\n",
    "print(nameList)"
   ]
  },
  {
   "cell_type": "code",
   "execution_count": 32,
   "metadata": {},
   "outputs": [
    {
     "name": "stdout",
     "output_type": "stream",
     "text": [
      "None\n"
     ]
    }
   ],
   "source": [
    "fruits = [\"apple\", \"bananan\", \"Papaya\", \"mango\", \"Litchi\", \"Kiwi\"]\n",
    "\n",
    "new_fruits = fruits.sort()\n",
    "\n",
    "print(new_fruitsfruits)"
   ]
  },
  {
   "cell_type": "code",
   "execution_count": 36,
   "metadata": {},
   "outputs": [
    {
     "name": "stdout",
     "output_type": "stream",
     "text": [
      "['l', 'j', 'f', 'd', 'b', 'a']\n"
     ]
    }
   ],
   "source": [
    "name = ['a', 'b', 'f', 'd', 'l', 'j']\n",
    "\n",
    "\n",
    "\n",
    "name.sort(reverse=True)\n",
    "\n",
    "print(name)"
   ]
  },
  {
   "cell_type": "code",
   "execution_count": 37,
   "metadata": {},
   "outputs": [
    {
     "name": "stdout",
     "output_type": "stream",
     "text": [
      "[78, 80, 21, 20]\n"
     ]
    }
   ],
   "source": [
    "number = [20,21,80,78]\n",
    "\n",
    "number.reverse()\n",
    "\n",
    "print(number)"
   ]
  },
  {
   "cell_type": "code",
   "execution_count": 38,
   "metadata": {},
   "outputs": [
    {
     "name": "stdout",
     "output_type": "stream",
     "text": [
      "[60, 90, 20, 10]\n"
     ]
    }
   ],
   "source": [
    "a = [10,20,90,60]\n",
    "\n",
    "a = a[::-1]\n",
    "\n",
    "print(a)"
   ]
  },
  {
   "cell_type": "code",
   "execution_count": 40,
   "metadata": {},
   "outputs": [
    {
     "name": "stdout",
     "output_type": "stream",
     "text": [
      "['Prince', 'Shivam']\n"
     ]
    }
   ],
   "source": [
    "nested_list = [[\"Prince\", \"Shivam\"], [20,30,\"abc\"], [True, False]]\n",
    "\n",
    "print(nested_list[0])"
   ]
  },
  {
   "cell_type": "code",
   "execution_count": 42,
   "metadata": {},
   "outputs": [
    {
     "name": "stdout",
     "output_type": "stream",
     "text": [
      "['Banana']\n"
     ]
    }
   ],
   "source": [
    "name = [10,20,\"prince\"]\n",
    "\n",
    "name.clear()\n",
    "\n",
    "name.append(\"Banana\")\n",
    "\n",
    "print(name)"
   ]
  },
  {
   "cell_type": "code",
   "execution_count": 45,
   "metadata": {},
   "outputs": [
    {
     "name": "stdout",
     "output_type": "stream",
     "text": [
      "['Prince', 29, 20, 'Mango']\n"
     ]
    }
   ],
   "source": [
    "new_list = [\"Prince\", 29, 20, \"Mango\"]\n",
    "\n",
    "copy_list = new_list\n",
    "\n",
    "new_list.append(\"Tango\")\n",
    "\n",
    "print(copy_list)"
   ]
  },
  {
   "cell_type": "code",
   "execution_count": 48,
   "metadata": {},
   "outputs": [
    {
     "name": "stdout",
     "output_type": "stream",
     "text": [
      "[29, 23, 12, 123]\n",
      "[29, 23, 'Prince', 123]\n"
     ]
    }
   ],
   "source": [
    "a = [29,23,12,123]\n",
    "\n",
    "b = a.copy()\n",
    "\n",
    "a[2]=\"Prince\"\n",
    "\n",
    "print(b)\n",
    "print(a)"
   ]
  },
  {
   "cell_type": "code",
   "execution_count": 49,
   "metadata": {},
   "outputs": [
    {
     "name": "stdout",
     "output_type": "stream",
     "text": [
      "[29, 23, 12, 123]\n"
     ]
    }
   ],
   "source": [
    "a = [29,23,12,123]\n",
    "\n",
    "b = a\n",
    "\n",
    "a[2]=\"Prince\"\n",
    "\n",
    "print(b)"
   ]
  },
  {
   "cell_type": "code",
   "execution_count": 52,
   "metadata": {},
   "outputs": [
    {
     "name": "stdout",
     "output_type": "stream",
     "text": [
      "[2, 3, 4, 5, 2, [5, 6], 7, 8, 9]\n"
     ]
    }
   ],
   "source": [
    "list1 = [2,3,4,5,2]\n",
    "\n",
    "list2 = [[5,6],7,8,9]\n",
    "\n",
    "list = list1+list2\n",
    "\n",
    "print(list)"
   ]
  },
  {
   "cell_type": "code",
   "execution_count": null,
   "metadata": {},
   "outputs": [],
   "source": [
    "\n"
   ]
  }
 ],
 "metadata": {
  "kernelspec": {
   "display_name": "Python 3",
   "language": "python",
   "name": "python3"
  },
  "language_info": {
   "codemirror_mode": {
    "name": "ipython",
    "version": 3
   },
   "file_extension": ".py",
   "mimetype": "text/x-python",
   "name": "python",
   "nbconvert_exporter": "python",
   "pygments_lexer": "ipython3",
   "version": "3.12.4"
  }
 },
 "nbformat": 4,
 "nbformat_minor": 2
}
